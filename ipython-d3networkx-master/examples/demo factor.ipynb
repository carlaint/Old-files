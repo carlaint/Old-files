{
 "cells": [
  {
   "cell_type": "code",
   "execution_count": 1,
   "metadata": {
    "collapsed": false
   },
   "outputs": [
    {
     "name": "stderr",
     "output_type": "stream",
     "text": [
      "C:\\Users\\CIntal\\AppData\\Local\\Continuum\\Anaconda2\\lib\\site-packages\\IPython\\html.py:14: ShimWarning: The `IPython.html` package has been deprecated. You should import from `notebook` instead. `IPython.html.widgets` has moved to `ipywidgets`.\n",
      "  \"`IPython.html.widgets` has moved to `ipywidgets`.\", ShimWarning)\n"
     ]
    },
    {
     "ename": "ImportError",
     "evalue": "No module named d3networkx",
     "output_type": "error",
     "traceback": [
      "\u001b[1;31m---------------------------------------------------------------------------\u001b[0m",
      "\u001b[1;31mImportError\u001b[0m                               Traceback (most recent call last)",
      "\u001b[1;32m<ipython-input-1-8cb13f7e1981>\u001b[0m in \u001b[0;36m<module>\u001b[1;34m()\u001b[0m\n\u001b[0;32m      1\u001b[0m \u001b[1;32mfrom\u001b[0m \u001b[0mIPython\u001b[0m\u001b[1;33m.\u001b[0m\u001b[0mdisplay\u001b[0m \u001b[1;32mimport\u001b[0m \u001b[0mdisplay\u001b[0m\u001b[1;33m\u001b[0m\u001b[0m\n\u001b[0;32m      2\u001b[0m \u001b[1;32mfrom\u001b[0m \u001b[0mIPython\u001b[0m\u001b[1;33m.\u001b[0m\u001b[0mhtml\u001b[0m \u001b[1;32mimport\u001b[0m \u001b[0mwidgets\u001b[0m\u001b[1;33m\u001b[0m\u001b[0m\n\u001b[1;32m----> 3\u001b[1;33m \u001b[1;32mfrom\u001b[0m \u001b[0md3networkx\u001b[0m \u001b[1;32mimport\u001b[0m \u001b[0mForceDirectedGraph\u001b[0m\u001b[1;33m,\u001b[0m \u001b[0mEventfulGraph\u001b[0m\u001b[1;33m\u001b[0m\u001b[0m\n\u001b[0m",
      "\u001b[1;31mImportError\u001b[0m: No module named d3networkx"
     ]
    }
   ],
   "source": [
    "from IPython.display import display\n",
    "from IPython.html import widgets\n",
    "from d3networkx import ForceDirectedGraph, EventfulGraph"
   ]
  },
  {
   "cell_type": "markdown",
   "metadata": {},
   "source": [
    "## Prime Factor Finder"
   ]
  },
  {
   "cell_type": "markdown",
   "metadata": {},
   "source": [
    "When an eventful graph is created, create a widget to view it."
   ]
  },
  {
   "cell_type": "code",
   "execution_count": null,
   "metadata": {
    "collapsed": true
   },
   "outputs": [],
   "source": [
    "def create_widget(graph):\n",
    "    display(ForceDirectedGraph(graph))\n",
    "EventfulGraph.on_constructed(create_widget)"
   ]
  },
  {
   "cell_type": "markdown",
   "metadata": {},
   "source": [
    "Code that populates the graph."
   ]
  },
  {
   "cell_type": "code",
   "execution_count": null,
   "metadata": {
    "collapsed": false
   },
   "outputs": [],
   "source": [
    "BACKGROUND = '#6B8A87'\n",
    "PARENT_COLOR = '#3E5970'\n",
    "FACTOR_COLOR = '#424357'\n",
    "EDGE_COLOR = '#000000'\n",
    "PRIME_COLOR = '#333241'\n",
    "CHARGE = -200\n",
    "MIN_NODE_RADIUS = 15.0\n",
    "START_NODE_RADIUS = 65.0\n",
    "\n",
    "is_int = lambda x: int(x) == x\n",
    "factor = lambda x: [i + 1 for i in range(x-1) if  i != 0 and is_int(x / (float(i) + 1.0))]\n",
    "calc_node_size = lambda x, start_x: max(float(x)/start_x * START_NODE_RADIUS, MIN_NODE_RADIUS)\n",
    "calc_edge_length = lambda x, parent_x, start_x: calc_node_size(x, start_x) + calc_node_size(parent_x, start_x)\n",
    "    \n",
    "def add_node(graph, value, **kwargs):\n",
    "    graph.add_node(len(graph.node), charge=CHARGE, strokewidth=0, value=value, label=value, font_size='18pt', dy='8', **kwargs)\n",
    "    return len(graph.node) - 1\n",
    "    \n",
    "def add_child_node(graph, x, number, start_number, parent):\n",
    "    index = add_node(graph, x, fill=FACTOR_COLOR, r='%.2fpx' % calc_node_size(x, start_number))\n",
    "    graph.add_edge(index, parent, distance=calc_edge_length(x, number, start_number), stroke=EDGE_COLOR, strokewidth='3px')\n",
    "    return index\n",
    "\n",
    "def plot_primes(number, start_number=None, parent=None, graph=None, delay=0.0):\n",
    "    start_number = start_number or number\n",
    "    if graph is None:\n",
    "        graph = EventfulGraph(sleep=delay)\n",
    "        graph.node.clear()\n",
    "    parent = parent or add_node(graph, number, fill=PARENT_COLOR, r='%.2fpx' % START_NODE_RADIUS)\n",
    "    \n",
    "    factors = factor(number)\n",
    "    if len(factors) == 0:\n",
    "        graph.node[parent]['fill'] = PRIME_COLOR\n",
    "    for x in factors:\n",
    "        index = add_child_node(graph, x, number, start_number, parent)\n",
    "        plot_primes(x, start_number, parent=index, graph=graph)"
   ]
  },
  {
   "cell_type": "markdown",
   "metadata": {},
   "source": [
    "GUI for factoring a number."
   ]
  },
  {
   "cell_type": "code",
   "execution_count": null,
   "metadata": {
    "collapsed": false
   },
   "outputs": [],
   "source": [
    "box = widgets.VBox()\n",
    "header = widgets.HTML(value=\"<h1>Number Factorizer</h1><br>\")\n",
    "number = widgets.IntSlider(description=\"Number:\", value=100)\n",
    "speed = widgets.FloatSlider(description=\"Delay:\", min=0.0, max=0.2, value=0.1, step=0.01)\n",
    "\n",
    "subbox = widgets.HBox()\n",
    "button = widgets.Button(description=\"Calculate\")\n",
    "subbox.children = [button]\n",
    "\n",
    "box.children = [header, number, speed, subbox]\n",
    "display(box)\n",
    "\n",
    "box._dom_classes = ['well', 'well-small']\n",
    "\n",
    "def handle_caclulate(sender):\n",
    "    plot_primes(number.value, delay=speed.value)\n",
    "button.on_click(handle_caclulate)"
   ]
  }
 ],
 "metadata": {
  "kernelspec": {
   "display_name": "Python [Root]",
   "language": "python",
   "name": "Python [Root]"
  },
  "language_info": {
   "codemirror_mode": {
    "name": "ipython",
    "version": 2
   },
   "file_extension": ".py",
   "mimetype": "text/x-python",
   "name": "python",
   "nbconvert_exporter": "python",
   "pygments_lexer": "ipython2",
   "version": "2.7.12"
  }
 },
 "nbformat": 4,
 "nbformat_minor": 0
}
